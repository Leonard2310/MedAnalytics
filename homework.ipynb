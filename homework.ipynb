{
 "cells": [
  {
   "cell_type": "markdown",
   "id": "2d43c6d1",
   "metadata": {},
   "source": [
    "# Homework 1"
   ]
  },
  {
   "cell_type": "markdown",
   "id": "221ecf1e",
   "metadata": {},
   "source": [
    "## Check installazione spark"
   ]
  },
  {
   "cell_type": "code",
   "execution_count": 1,
   "id": "ecbaa43e",
   "metadata": {},
   "outputs": [],
   "source": [
    "import findspark\n",
    "findspark.init()"
   ]
  },
  {
   "cell_type": "code",
   "execution_count": 2,
   "id": "5ebf0291",
   "metadata": {},
   "outputs": [
    {
     "name": "stdout",
     "output_type": "stream",
     "text": [
      "Java: 21.0.6\n",
      "Spark: 3.5.5\n"
     ]
    }
   ],
   "source": [
    "from pyspark import SparkConf\n",
    "from pyspark.context import SparkContext\n",
    "\n",
    "conf = (\n",
    "    SparkConf()\n",
    "      # Configurazione per abilitare il Security Manager e risolvere i problemi legati a Java\n",
    "      .set(\"spark.driver.extraJavaOptions\",   \"-Djava.security.manager=allow\")\n",
    ")\n",
    "\n",
    "sc = SparkContext.getOrCreate(conf=conf)\n",
    "\n",
    "print(\"Java:\", sc._jvm.System.getProperty(\"java.version\"))\n",
    "print(\"Spark:\", sc.version)\n",
    "\n",
    "assert  \"3.\" in sc.version, \"Verify that the cluster Spark's version is 3.x\"\n"
   ]
  },
  {
   "cell_type": "code",
   "execution_count": 3,
   "id": "c9881220",
   "metadata": {},
   "outputs": [
    {
     "name": "stdout",
     "output_type": "stream",
     "text": [
      "Spark version: 3.5.5\n"
     ]
    }
   ],
   "source": [
    "print(\"Spark version:\", sc.version)"
   ]
  },
  {
   "cell_type": "code",
   "execution_count": 4,
   "id": "d29bc839",
   "metadata": {},
   "outputs": [],
   "source": [
    "from pyspark.sql import SparkSession\n",
    "spark_session = SparkSession(sc)"
   ]
  },
  {
   "cell_type": "markdown",
   "id": "fd57381f",
   "metadata": {},
   "source": [
    "## Lettura Dataset"
   ]
  },
  {
   "cell_type": "markdown",
   "id": "ec5f4543",
   "metadata": {},
   "source": [
    "Il blocco di codice successivo serve a:\n",
    "1. Usare la prima riga automaticamente come header  \n",
    "2. Fare inferenza automatica sul tipo di dato di ogni colonna  \n",
    "3. Gestire records multi-linea  \n",
    "4. Specificare che sono usate le doppie virgolette per racchiudere i campi  \n",
    "5. Gestire le virgolette all'interno dei campi racchiusi dalle stesse  \n",
    "6. Permettere il parsing di record non formattati perfettamente senza fallire  \n",
    "7. Specificare il path del file `.csv` da cui leggere  "
   ]
  },
  {
   "cell_type": "code",
   "execution_count": 5,
   "id": "c407416c",
   "metadata": {},
   "outputs": [],
   "source": [
    "# Load the CSV file into a DataFrame\n",
    "df_clinical = spark_session.read \\\n",
    "  .option(\"header\", \"true\") \\\n",
    "  .option(\"inferSchema\", \"true\") \\\n",
    "  .option(\"multiLine\", \"true\") \\\n",
    "  .option(\"quote\", '\"') \\\n",
    "  .option(\"escape\", '\"') \\\n",
    "  .option(\"mode\", \"PERMISSIVE\") \\\n",
    "  .csv('dimensions_clinicalTrials.csv') "
   ]
  },
  {
   "cell_type": "code",
   "execution_count": 6,
   "id": "fd1564a7",
   "metadata": {},
   "outputs": [
    {
     "name": "stdout",
     "output_type": "stream",
     "text": [
      "root\n",
      " |-- Rank: integer (nullable = true)\n",
      " |-- Trial ID: string (nullable = true)\n",
      " |-- Title: string (nullable = true)\n",
      " |-- Brief title: string (nullable = true)\n",
      " |-- Acronym: string (nullable = true)\n",
      " |-- Abstract: string (nullable = true)\n",
      " |-- Start date: date (nullable = true)\n",
      " |-- Start Year: double (nullable = true)\n",
      " |-- End Date: date (nullable = true)\n",
      " |-- Completion Year: double (nullable = true)\n",
      " |-- Phase: string (nullable = true)\n",
      " |-- Study Type: string (nullable = true)\n",
      " |-- Study Design: string (nullable = true)\n",
      " |-- Conditions: string (nullable = true)\n",
      " |-- Recruitment Status: string (nullable = true)\n",
      " |-- Number of Participants: double (nullable = true)\n",
      " |-- Intervention: string (nullable = true)\n",
      " |-- Gender: string (nullable = true)\n",
      " |-- Age: string (nullable = true)\n",
      " |-- Registry: string (nullable = true)\n",
      " |-- Investigators/Contacts: string (nullable = true)\n",
      " |-- Sponsors/Collaborators: string (nullable = true)\n",
      " |-- City of Sponsor/Collaborator: string (nullable = true)\n",
      " |-- State of Sponsor/Collaborator: string (nullable = true)\n",
      " |-- Country of Sponsor/Collaborator: string (nullable = true)\n",
      " |-- Collaborating Funders: string (nullable = true)\n",
      " |-- Funder Group: string (nullable = true)\n",
      " |-- Funder Country: string (nullable = true)\n",
      " |-- Source Linkout: string (nullable = true)\n",
      " |-- Altmetric Attention Score: double (nullable = true)\n",
      " |-- Dimensions URL: string (nullable = true)\n",
      " |-- Fields of Research (ANZSRC 2020): string (nullable = true)\n",
      " |-- RCDC Categories: string (nullable = true)\n",
      " |-- HRCS HC Categories: string (nullable = true)\n",
      " |-- HRCS RAC Categories: string (nullable = true)\n",
      " |-- Cancer Types: string (nullable = true)\n",
      " |-- CSO Categories: string (nullable = true)\n",
      " |-- AHC: string (nullable = true)\n",
      "\n"
     ]
    }
   ],
   "source": [
    "df_clinical.printSchema()  # Prints the schema of the DataFrame"
   ]
  },
  {
   "cell_type": "code",
   "execution_count": 7,
   "id": "2818ca98",
   "metadata": {},
   "outputs": [
    {
     "name": "stdout",
     "output_type": "stream",
     "text": [
      "+----+--------------+--------------------+--------------------+-----------------+--------------------+----------+----------+----------+---------------+-------+--------------+--------------------+--------------------+------------------+----------------------+--------------------+------+-------------------+------------------+----------------------+----------------------+----------------------------+-----------------------------+-------------------------------+---------------------+------------+--------------+--------------------+-------------------------+--------------------+--------------------------------+--------------------+--------------------+-------------------+------------+--------------+---------------+\n",
      "|Rank|      Trial ID|               Title|         Brief title|          Acronym|            Abstract|Start date|Start Year|  End Date|Completion Year|  Phase|    Study Type|        Study Design|          Conditions|Recruitment Status|Number of Participants|        Intervention|Gender|                Age|          Registry|Investigators/Contacts|Sponsors/Collaborators|City of Sponsor/Collaborator|State of Sponsor/Collaborator|Country of Sponsor/Collaborator|Collaborating Funders|Funder Group|Funder Country|      Source Linkout|Altmetric Attention Score|      Dimensions URL|Fields of Research (ANZSRC 2020)|     RCDC Categories|  HRCS HC Categories|HRCS RAC Categories|Cancer Types|CSO Categories|            AHC|\n",
      "+----+--------------+--------------------+--------------------+-----------------+--------------------+----------+----------+----------+---------------+-------+--------------+--------------------+--------------------+------------------+----------------------+--------------------+------+-------------------+------------------+----------------------+----------------------+----------------------------+-----------------------------+-------------------------------+---------------------+------------+--------------+--------------------+-------------------------+--------------------+--------------------------------+--------------------+--------------------+-------------------+------------+--------------+---------------+\n",
      "| 100|   NCT05817903|Phase II Study of...|Axitinib Intensif...|             AxIn|This phase II ope...|2023-04-18|    2023.0|2027-04-01|         2027.0|Phase 2|Interventional|Allocation: Rando...|Metastatic Renal ...|        Recruiting|                 118.0|Axitinib (Drug), ...|   All|     18 Years - N/A|ClinicalTrials.gov|  Roberto Iacovelli...|  Consorzio Oncotec...|        Naples; New York;...|         ; New York; ; ; ;...|           Italy; United Sta...| Pfizer (United St...|        NULL| United States|https://clinicalt...|                     NULL|https://app.dimen...|            32 Biomedical and...|Clinical Research...|                NULL|6.1 Pharmaceuticals|        NULL|          NULL|AOUSSN_CAGLIARI|\n",
      "| 100|   NCT05482490|A Novel Hygienic ...|Maintenance Proto...|             NULL|The study we inte...|2022-10-01|    2022.0|2023-12-31|         2023.0|   NULL|Interventional|Allocation: N/A; ...|   Implant Infection|Not yet recruiting|                 130.0|Maintenance proto...|   All|          N/A - N/A|ClinicalTrials.gov|                  NULL|  University of Cag...|          Cagliari; Cagliari|                            ;|                   Italy; Italy| University of Cag...|        NULL|         Italy|https://clinicalt...|                     NULL|https://app.dimen...|            32 Biomedical and...|Bioengineering; C...|           Infection|               NULL|        NULL|          NULL|AOUSSN_CAGLIARI|\n",
      "| 100|ISRCTN44988547|The 3TR Molecular...|Are RNA signature...|3TR Precis-The-RA|Background and st...|2022-09-20|    2022.0|2026-09-01|         2026.0|Phase 4|Interventional|Allocation: Rando...|Rheumatoid arthritis|              NULL|                 240.0|                NULL|   All|        None - None|            ISRCTN|  Liliane Fossati-J...|  Queen Mary Univer...|        London; ; London;...|         ; ; ; ; ; ; Bruss...|           United Kingdom; ;...| Queen Mary Univer...|        NULL|United Kingdom|https://www.isrct...|                     NULL|https://app.dimen...|            32 Biomedical and...|Autoimmune Diseas...|Inflammatory and ...|6.1 Pharmaceuticals|        NULL|          NULL|AOUSSN_CAGLIARI|\n",
      "| 100|   NCT05242484|A Phase 2b Random...|A Study of Combin...|          DUET-UC|The purpose of th...|2022-09-19|    2022.0|2029-02-28|         2029.0|Phase 2|Interventional|Allocation: Rando...| Colitis, Ulcerative|        Recruiting|                 550.0|Guselkumab (Biolo...|   All|18 Years - 65 Years|ClinicalTrials.gov|                  NULL|  Janssen (United S...|        Hopewell; Arcadia...|         New Jersey; Calif...|           United States; Un...| Johnson & Johnson...|        NULL| United States|https://clinicalt...|                     NULL|https://app.dimen...|            32 Biomedical and...|Clinical Research...|Oral and gastroin...|6.1 Pharmaceuticals|        NULL|          NULL|AOUSSN_CAGLIARI|\n",
      "| 100|   NCT05481580|Relationship Betw...|Restorations and ...|             NULL|The aim of this s...|2022-09-01|    2022.0|2023-06-30|         2023.0|   NULL| Observational|Observational Mod...|   Furcation Defects|Not yet recruiting|                 200.0|Periodontal probi...|   All|          N/A - N/A|ClinicalTrials.gov|                  NULL|  University of Cag...|          Cagliari; Cagliari|                            ;|                   Italy; Italy| University of Cag...|        NULL|         Italy|https://clinicalt...|                     NULL|https://app.dimen...|            32 Biomedical and...|      Bioengineering|                NULL|               NULL|        NULL|          NULL|AOUSSN_CAGLIARI|\n",
      "+----+--------------+--------------------+--------------------+-----------------+--------------------+----------+----------+----------+---------------+-------+--------------+--------------------+--------------------+------------------+----------------------+--------------------+------+-------------------+------------------+----------------------+----------------------+----------------------------+-----------------------------+-------------------------------+---------------------+------------+--------------+--------------------+-------------------------+--------------------+--------------------------------+--------------------+--------------------+-------------------+------------+--------------+---------------+\n",
      "only showing top 5 rows\n",
      "\n"
     ]
    }
   ],
   "source": [
    "df_clinical.show(5)  # Displays the first 5 rows of the DataFrame"
   ]
  },
  {
   "cell_type": "markdown",
   "id": "56e140c3",
   "metadata": {},
   "source": [
    "## Analytics di esempio"
   ]
  },
  {
   "cell_type": "markdown",
   "id": "c9f3d0e8",
   "metadata": {},
   "source": [
    "Numero di studi cominciati per anno"
   ]
  },
  {
   "cell_type": "code",
   "execution_count": 8,
   "id": "cc47c56c",
   "metadata": {},
   "outputs": [
    {
     "name": "stdout",
     "output_type": "stream",
     "text": [
      "+----------+-----+\n",
      "|Start Year|count|\n",
      "+----------+-----+\n",
      "|    2021.0| 1460|\n",
      "|    2020.0| 1438|\n",
      "|    2019.0| 1321|\n",
      "|    2018.0| 1207|\n",
      "|    2022.0| 1151|\n",
      "|    2017.0| 1146|\n",
      "|    2016.0|  850|\n",
      "|    2015.0|  841|\n",
      "|    2013.0|  784|\n",
      "|    2014.0|  767|\n",
      "+----------+-----+\n",
      "only showing top 10 rows\n",
      "\n"
     ]
    }
   ],
   "source": [
    "df_clinical.filter(df_clinical[\"Start Year\"].isNotNull()) \\\n",
    "    .groupBy(\"Start Year\") \\\n",
    "    .count() \\\n",
    "    .orderBy(\"count\", ascending = False) \\\n",
    "    .show(10)  # Displays the count of clinical trials by start year"
   ]
  },
  {
   "cell_type": "markdown",
   "id": "206a396c",
   "metadata": {},
   "source": [
    "Numero medio di partecipanti per tipo di studio"
   ]
  },
  {
   "cell_type": "code",
   "execution_count": 9,
   "id": "8886a34d",
   "metadata": {},
   "outputs": [
    {
     "name": "stdout",
     "output_type": "stream",
     "text": [
      "+-------------------+----------------+\n",
      "|         Study Type|avg_participants|\n",
      "+-------------------+----------------+\n",
      "|Active surveillance|        115000.0|\n",
      "| Non-interventional|          3260.8|\n",
      "|      Observational|         2632.76|\n",
      "|     Interventional|          660.18|\n",
      "|                CCT|           520.0|\n",
      "|              Other|           202.0|\n",
      "+-------------------+----------------+\n",
      "\n"
     ]
    }
   ],
   "source": [
    "from pyspark.sql.functions import avg, round\n",
    "\n",
    "df_clinical.filter(df_clinical[\"Number of Participants\"].isNotNull()) \\\n",
    "    .groupBy(\"Study Type\") \\\n",
    "    .agg(round(avg(\"Number of Participants\"), 2).alias(\"avg_participants\")) \\\n",
    "    .orderBy(\"avg_participants\", ascending = False) \\\n",
    "    .show(10)  # Displays the average number (roundend to the .2 decimal) of participants by study type"
   ]
  },
  {
   "cell_type": "markdown",
   "id": "6f58b0b7",
   "metadata": {},
   "source": [
    "Top 10 medical conditions più presenti"
   ]
  },
  {
   "cell_type": "code",
   "execution_count": 10,
   "id": "ca8c942d",
   "metadata": {},
   "outputs": [
    {
     "name": "stdout",
     "output_type": "stream",
     "text": [
      "+--------------------+-----+\n",
      "|          Conditions|count|\n",
      "+--------------------+-----+\n",
      "|       Breast Cancer|  281|\n",
      "|    Multiple Myeloma|  179|\n",
      "|      Ovarian Cancer|  126|\n",
      "|            Melanoma|  118|\n",
      "|  Ulcerative Colitis|  112|\n",
      "|Acute Myeloid Leu...|  106|\n",
      "|            Leukemia|  102|\n",
      "|Carcinoma, Non-Sm...|  101|\n",
      "| Follicular Lymphoma|   92|\n",
      "|Metastatic Colore...|   90|\n",
      "+--------------------+-----+\n",
      "only showing top 10 rows\n",
      "\n"
     ]
    }
   ],
   "source": [
    "df_clinical.filter(df_clinical[\"Conditions\"].isNotNull()) \\\n",
    "    .groupBy(\"Conditions\") \\\n",
    "    .count() \\\n",
    "    .orderBy(\"count\", ascending = False) \\\n",
    "    .show(10)  # Displays the top 10 count of clinical trials by condition"
   ]
  },
  {
   "cell_type": "markdown",
   "id": "0445fd82",
   "metadata": {},
   "source": [
    "Paesi con il numero più alto di partecipanti"
   ]
  },
  {
   "cell_type": "code",
   "execution_count": 11,
   "id": "36f2e68c",
   "metadata": {},
   "outputs": [
    {
     "name": "stdout",
     "output_type": "stream",
     "text": [
      "+--------------------+-----+\n",
      "|      Funder Country|count|\n",
      "+--------------------+-----+\n",
      "|       United States| 2785|\n",
      "|               Italy| 1797|\n",
      "|             Germany|  391|\n",
      "|               Japan|  325|\n",
      "|             Belgium|  240|\n",
      "|        Italy; Italy|  182|\n",
      "|         Switzerland|  165|\n",
      "|United States; Un...|  107|\n",
      "|      United Kingdom|   91|\n",
      "|United States; Japan|   68|\n",
      "+--------------------+-----+\n",
      "only showing top 10 rows\n",
      "\n"
     ]
    }
   ],
   "source": [
    "df_clinical.filter(df_clinical[\"Number of Participants\"].isNotNull() & df_clinical[\"Funder Country\"].isNotNull()) \\\n",
    "    .groupBy(\"Funder Country\") \\\n",
    "    .count() \\\n",
    "    .orderBy(\"count\", ascending = False) \\\n",
    "    .show(10)  # Displays the top 10 count of clinical trials by funder country"
   ]
  },
  {
   "cell_type": "markdown",
   "id": "bc3fc210",
   "metadata": {},
   "source": [
    "Si può notare che esistono anche duplicati o paesi che hanno probabilmente una collaborazione (separati da ;) che sono presenti in conteggi separati. Pertanto è utile provare a separarli."
   ]
  },
  {
   "cell_type": "code",
   "execution_count": 12,
   "id": "d58e5974",
   "metadata": {},
   "outputs": [
    {
     "name": "stdout",
     "output_type": "stream",
     "text": [
      "+--------------+-----+\n",
      "|Funder Country|count|\n",
      "+--------------+-----+\n",
      "| United States| 3662|\n",
      "|         Italy| 2939|\n",
      "|       Germany|  602|\n",
      "|         Japan|  547|\n",
      "|United Kingdom|  408|\n",
      "|       Belgium|  347|\n",
      "|   Switzerland|  278|\n",
      "|   Netherlands|  197|\n",
      "|        France|  150|\n",
      "|       Denmark|   82|\n",
      "+--------------+-----+\n",
      "only showing top 10 rows\n",
      "\n"
     ]
    }
   ],
   "source": [
    "from pyspark.sql.functions import split, explode, trim\n",
    "\n",
    "# Split the 'Funder Country' column by ';' and explode it into separate rows\n",
    "df_cleaned = df_clinical.withColumn(\"Funder Country\", explode(split(df_clinical[\"Funder Country\"], \";\")))\n",
    "\n",
    "# Remove leading/trailing whitespace from country names\n",
    "df_cleaned = df_cleaned.withColumn(\"Funder Country\", trim(df_cleaned[\"Funder Country\"]))\n",
    "\n",
    "# Filter out null values and group by 'Funder Country'\n",
    "df_cleaned.filter(df_cleaned[\"Number of Participants\"].isNotNull() & df_cleaned[\"Funder Country\"].isNotNull()) \\\n",
    "    .groupBy(\"Funder Country\") \\\n",
    "    .count() \\\n",
    "    .orderBy(\"count\", ascending=False) \\\n",
    "    .show(10)  # Displays the top 10 count of clinical trials by funder country"
   ]
  },
  {
   "cell_type": "markdown",
   "id": "15812ad1",
   "metadata": {},
   "source": [
    "## Analytics proposte"
   ]
  },
  {
   "cell_type": "markdown",
   "id": "c6e1c815",
   "metadata": {},
   "source": [
    "### Distribuzione delle Age Groups in base alle condizioni"
   ]
  },
  {
   "cell_type": "code",
   "execution_count": 13,
   "id": "5426316b",
   "metadata": {},
   "outputs": [
    {
     "name": "stdout",
     "output_type": "stream",
     "text": [
      "+--------------+--------------------+-----+\n",
      "|           Age|          Conditions|count|\n",
      "+--------------+--------------------+-----+\n",
      "|18 Years - N/A|       Breast Cancer|  212|\n",
      "|18 Years - N/A|    Multiple Myeloma|  159|\n",
      "|18 Years - N/A|      Ovarian Cancer|   99|\n",
      "|18 Years - N/A|Carcinoma, Non-Sm...|   97|\n",
      "|18 Years - N/A|Non-Small Cell Lu...|   78|\n",
      "|18 Years - N/A|Metastatic Breast...|   77|\n",
      "|18 Years - N/A| Follicular Lymphoma|   69|\n",
      "|18 Years - N/A|       Heart Failure|   66|\n",
      "|18 Years - N/A|            Melanoma|   66|\n",
      "|18 Years - N/A|Chronic Myeloid L...|   64|\n",
      "+--------------+--------------------+-----+\n",
      "only showing top 10 rows\n",
      "\n"
     ]
    }
   ],
   "source": [
    "#Si sono filtrati i dati per età e condizioni, e sono stati esclusi i valori nulli e le righe con \"None - None\" o \"N/A - N/A\"\n",
    "df_clinical.filter(df_clinical[\"Age\"].isNotNull() & df_clinical[\"Conditions\"].isNotNull() & (df_clinical[\"Age\"] != \"None - None\") & (df_clinical[\"Age\"] != \"N/A - N/A\")) \\\n",
    "    .groupBy(\"Age\", \"Conditions\") \\\n",
    "    .count() \\\n",
    "    .orderBy(\"count\", ascending = False) \\\n",
    "    .show(10) "
   ]
  },
  {
   "cell_type": "code",
   "execution_count": 14,
   "id": "01702734",
   "metadata": {},
   "outputs": [
    {
     "name": "stdout",
     "output_type": "stream",
     "text": [
      "+-------------------+-------------+-----+\n",
      "|                Age|   Conditions|count|\n",
      "+-------------------+-------------+-----+\n",
      "|     18 Years - N/A|Breast Cancer|  212|\n",
      "|18 Years - 70 Years|Breast Cancer|    8|\n",
      "|18 Years - 75 Years|Breast Cancer|    7|\n",
      "|     N/A - 70 Years|Breast Cancer|    4|\n",
      "|18 Years - 45 Years|Breast Cancer|    4|\n",
      "+-------------------+-------------+-----+\n",
      "only showing top 5 rows\n",
      "\n",
      "+-------------------+----------------+-----+\n",
      "|                Age|      Conditions|count|\n",
      "+-------------------+----------------+-----+\n",
      "|     18 Years - N/A|Multiple Myeloma|  159|\n",
      "|18 Years - 65 Years|Multiple Myeloma|    8|\n",
      "|18 Years - 70 Years|Multiple Myeloma|    5|\n",
      "|     65 Years - N/A|Multiple Myeloma|    2|\n",
      "|18 Years - 80 Years|Multiple Myeloma|    1|\n",
      "+-------------------+----------------+-----+\n",
      "\n",
      "+-------------------+--------------+-----+\n",
      "|                Age|    Conditions|count|\n",
      "+-------------------+--------------+-----+\n",
      "|     18 Years - N/A|Ovarian Cancer|   99|\n",
      "|18 Years - 75 Years|Ovarian Cancer|    9|\n",
      "|     N/A - 75 Years|Ovarian Cancer|    7|\n",
      "|     70 Years - N/A|Ovarian Cancer|    2|\n",
      "|18 Years - 65 Years|Ovarian Cancer|    2|\n",
      "+-------------------+--------------+-----+\n",
      "only showing top 5 rows\n",
      "\n"
     ]
    }
   ],
   "source": [
    "#Qui si è sceso nel particolare delle top 3 Condizioni, per vedere le età più comuni per ciascuna di esse\n",
    "df_clinical.filter(df_clinical[\"Age\"].isNotNull() & (df_clinical[\"Conditions\"] == \"Breast Cancer\") & (df_clinical[\"Age\"] != \"None - None\") & (df_clinical[\"Age\"] != \"N/A - N/A\") ) \\\n",
    "    .groupBy(\"Age\", \"Conditions\") \\\n",
    "    .count() \\\n",
    "    .orderBy(\"count\", ascending = False) \\\n",
    "    .show(5) \n",
    "\n",
    "df_clinical.filter(df_clinical[\"Age\"].isNotNull() & (df_clinical[\"Conditions\"] == \"Multiple Myeloma\") & (df_clinical[\"Age\"] != \"None - None\") & (df_clinical[\"Age\"] != \"N/A - N/A\") ) \\\n",
    "    .groupBy(\"Age\", \"Conditions\") \\\n",
    "    .count() \\\n",
    "    .orderBy(\"count\", ascending = False) \\\n",
    "    .show(5) \n",
    "\n",
    "df_clinical.filter(df_clinical[\"Age\"].isNotNull() & (df_clinical[\"Conditions\"] == \"Ovarian Cancer\") & (df_clinical[\"Age\"] != \"None - None\") & (df_clinical[\"Age\"] != \"N/A - N/A\") ) \\\n",
    "    .groupBy(\"Age\", \"Conditions\") \\\n",
    "    .count() \\\n",
    "    .orderBy(\"count\", ascending = False) \\\n",
    "    .show(5) "
   ]
  },
  {
   "cell_type": "markdown",
   "id": "c1ee885d",
   "metadata": {},
   "source": [
    "Partendo dai risultati precedenti, si è proceduto ad estrarre la Start Age dell'Age Group per raggruppare il campione su tale base."
   ]
  },
  {
   "cell_type": "code",
   "execution_count": 15,
   "id": "3e212769",
   "metadata": {},
   "outputs": [
    {
     "name": "stdout",
     "output_type": "stream",
     "text": [
      "+---------+-------------+-----+\n",
      "|Start Age|   Conditions|count|\n",
      "+---------+-------------+-----+\n",
      "|       18|Breast Cancer|  246|\n",
      "|       65|Breast Cancer|    6|\n",
      "|       45|Breast Cancer|    6|\n",
      "|      N/A|Breast Cancer|    5|\n",
      "|       40|Breast Cancer|    4|\n",
      "+---------+-------------+-----+\n",
      "only showing top 5 rows\n",
      "\n",
      "+---------+----------------+-----+\n",
      "|Start Age|      Conditions|count|\n",
      "+---------+----------------+-----+\n",
      "|       18|Multiple Myeloma|  173|\n",
      "|       65|Multiple Myeloma|    2|\n",
      "+---------+----------------+-----+\n",
      "\n",
      "+---------+--------------+-----+\n",
      "|Start Age|    Conditions|count|\n",
      "+---------+--------------+-----+\n",
      "|       18|Ovarian Cancer|  111|\n",
      "|      N/A|Ovarian Cancer|    7|\n",
      "|       70|Ovarian Cancer|    2|\n",
      "+---------+--------------+-----+\n",
      "\n"
     ]
    }
   ],
   "source": [
    "from pyspark.sql.functions import split\n",
    "\n",
    "df_clinical_with_start_age = df_clinical.withColumn(\"Start Age\", split(df_clinical[\"Age\"], \" \")[0])\n",
    "\n",
    "df_clinical_with_start_age.filter(\n",
    "    df_clinical_with_start_age[\"Age\"].isNotNull() & \n",
    "    (df_clinical_with_start_age[\"Conditions\"] == \"Breast Cancer\") & \n",
    "    (df_clinical_with_start_age[\"Age\"] != \"None - None\") & \n",
    "    (df_clinical_with_start_age[\"Age\"] != \"N/A - N/A\")\n",
    ") \\\n",
    "    .groupBy(\"Start Age\", \"Conditions\") \\\n",
    "    .count() \\\n",
    "    .orderBy(\"count\", ascending=False) \\\n",
    "    .show(5)\n",
    "\n",
    "df_clinical_with_start_age.filter(\n",
    "    df_clinical_with_start_age[\"Age\"].isNotNull()& \n",
    "    (df_clinical_with_start_age[\"Conditions\"] == \"Multiple Myeloma\") & \n",
    "    (df_clinical_with_start_age[\"Age\"] != \"None - None\") & \n",
    "    (df_clinical_with_start_age[\"Age\"] != \"N/A - N/A\")\n",
    ") \\\n",
    "    .groupBy(\"Start Age\", \"Conditions\") \\\n",
    "    .count() \\\n",
    "    .orderBy(\"count\", ascending=False) \\\n",
    "    .show(5)\n",
    "\n",
    "df_clinical_with_start_age.filter(\n",
    "    df_clinical_with_start_age[\"Age\"].isNotNull() & \n",
    "    (df_clinical_with_start_age[\"Conditions\"] == \"Ovarian Cancer\") & \n",
    "    (df_clinical_with_start_age[\"Age\"] != \"None - None\") & \n",
    "    (df_clinical_with_start_age[\"Age\"] != \"N/A - N/A\")\n",
    ") \\\n",
    "    .groupBy(\"Start Age\", \"Conditions\") \\\n",
    "    .count() \\\n",
    "    .orderBy(\"count\", ascending=False) \\\n",
    "    .show(5)"
   ]
  },
  {
   "cell_type": "markdown",
   "id": "cb22e420",
   "metadata": {},
   "source": [
    "### Anomaly Detection Analysis"
   ]
  },
  {
   "cell_type": "markdown",
   "id": "7c645ebb",
   "metadata": {},
   "source": [
    "In questo caso si è cercato di fare una anomaly detection basandosi sul numero di partecipanti ad ogni trial. Usando il metodo IQR (Inter-Quartile Range) si identificano i Trial che hanno un alto o un basso numero di partecipanti con la stessa condizione."
   ]
  },
  {
   "cell_type": "code",
   "execution_count": 16,
   "id": "7a510713",
   "metadata": {},
   "outputs": [
    {
     "name": "stdout",
     "output_type": "stream",
     "text": [
      "Anomalies:\n",
      "+----------------------------------+----------------------+-----------+-----------+-----------+\n",
      "|Conditions                        |Number of Participants|Lower_Bound|Upper_Bound|Trial ID   |\n",
      "+----------------------------------+----------------------+-----------+-----------+-----------+\n",
      "|AL Amyloidosis                    |5000.0                |-20.0      |140.0      |NCT04839003|\n",
      "|AML                               |246.0                 |367.0      |367.0      |NCT02152956|\n",
      "|ARDS                              |740.0                 |-110.0     |226.0      |NCT03963622|\n",
      "|Acute Coronary Syndromes          |10000.0               |2597.0     |2597.0     |NCT02438085|\n",
      "|Acute Leukemia                    |40.0                  |101.0      |101.0      |NCT01385891|\n",
      "|Acute Lymphoblastic Leukemia      |280.0                 |-70.0      |210.0      |NCT00358072|\n",
      "|Acute Myelogenous Leukemia        |326.0                 |561.0      |593.0      |NCT00317642|\n",
      "|Acute Promyelocytic Leukemia      |600.0                 |-19.0      |269.0      |NCT01064570|\n",
      "|Acute Respiratory Failure         |8151.0                |-412.5     |727.5      |NCT01093482|\n",
      "|Advanced Cancer; Metastatic Cancer|50.0                  |1166.0     |1166.0     |NCT06174987|\n",
      "+----------------------------------+----------------------+-----------+-----------+-----------+\n",
      "only showing top 10 rows\n",
      "\n",
      "Valid Records:\n",
      "+--------------------------------------------------------------------+----------------------+-----------+-----------+--------------+\n",
      "|Conditions                                                          |Number of Participants|Lower_Bound|Upper_Bound|Trial ID      |\n",
      "+--------------------------------------------------------------------+----------------------+-----------+-----------+--------------+\n",
      "|Metastatic Renal Cell Carcinoma                                     |118.0                 |48.0       |160.0      |NCT05817903   |\n",
      "|Implant Infection                                                   |130.0                 |130.0      |130.0      |NCT05482490   |\n",
      "|Rheumatoid arthritis                                                |240.0                 |-3950.0    |7170.0     |ISRCTN44988547|\n",
      "|Colitis, Ulcerative                                                 |550.0                 |-911.5     |1780.5     |NCT05242484   |\n",
      "|Furcation Defects                                                   |200.0                 |200.0      |200.0      |NCT05481580   |\n",
      "|Periodontitis                                                       |100.0                 |0.0        |160.0      |NCT05481567   |\n",
      "|Gingival Recession                                                  |20.0                  |-40.0      |120.0      |NCT05472233   |\n",
      "|Crohn's Disease                                                     |715.0                 |-771.5     |1952.5     |NCT05242471   |\n",
      "|Colorectal Cancer (CRC)                                             |160.0                 |160.0      |160.0      |NCT05198934   |\n",
      "|Colon Cancer; Lymph Node Metastasis; Surgical Procedure, Unspecified|788.0                 |788.0      |788.0      |NCT05943951   |\n",
      "+--------------------------------------------------------------------+----------------------+-----------+-----------+--------------+\n",
      "only showing top 10 rows\n",
      "\n"
     ]
    }
   ],
   "source": [
    "from pyspark.sql.functions import col, expr, percentile_approx, first\n",
    "\n",
    "# Calculate Q1, Q3, and IQR for each condition\n",
    "iqr_stats = df_clinical.filter(df_clinical[\"Number of Participants\"].isNotNull()) \\\n",
    "    .groupBy(\"Conditions\") \\\n",
    "    .agg(\n",
    "        percentile_approx(\"Number of Participants\", 0.25).alias(\"Q1\"),\n",
    "        percentile_approx(\"Number of Participants\", 0.75).alias(\"Q3\")\n",
    "    ) \\\n",
    "    .withColumn(\"IQR\", col(\"Q3\") - col(\"Q1\")) \\\n",
    "    .withColumn(\"Lower_Bound\", col(\"Q1\") - 1.5 * col(\"IQR\")) \\\n",
    "    .withColumn(\"Upper_Bound\", col(\"Q3\") + 1.5 * col(\"IQR\"))\n",
    "\n",
    "# Join the IQR stats back to the original DataFrame\n",
    "df_with_iqr = df_clinical.filter(df_clinical[\"Number of Participants\"].isNotNull()) \\\n",
    "    .join(iqr_stats, on=\"Conditions\", how=\"inner\")\n",
    "\n",
    "# Flag anomalies based on IQR\n",
    "anomalies = df_with_iqr.filter(\n",
    "    (col(\"Number of Participants\") < col(\"Lower_Bound\")) |\n",
    "    (col(\"Number of Participants\") > col(\"Upper_Bound\"))\n",
    ")\n",
    "\n",
    "# Select records within the bounds\n",
    "valid_records = df_with_iqr.filter(\n",
    "    (col(\"Number of Participants\") >= col(\"Lower_Bound\")) &\n",
    "    (col(\"Number of Participants\") <= col(\"Upper_Bound\"))\n",
    ")\n",
    "\n",
    "# Group by Conditions and select the first anomaly for each condition\n",
    "unique_anomalies = anomalies.groupBy(\"Conditions\").agg(\n",
    "    first(\"Number of Participants\").alias(\"Number of Participants\"),\n",
    "    first(\"Lower_Bound\").alias(\"Lower_Bound\"),\n",
    "    first(\"Upper_Bound\").alias(\"Upper_Bound\"),\n",
    "    first(\"Trial ID\").alias(\"Trial ID\")\n",
    ")\n",
    "\n",
    "# Show unique anomalies with full-length Conditions column\n",
    "print(\"Anomalies:\")\n",
    "unique_anomalies.show(10,truncate=False)\n",
    "\n",
    "# Show valid records with study information\n",
    "print(\"Valid Records:\")\n",
    "valid_records.select(\"Conditions\", \"Number of Participants\", \"Lower_Bound\", \"Upper_Bound\", \"Trial ID\").show(10,truncate=False)"
   ]
  },
  {
   "cell_type": "markdown",
   "id": "8b504aea",
   "metadata": {},
   "source": [
    "### Correlation Analysis tra Visibilità Mediatica e Durata/Partecipanti"
   ]
  },
  {
   "cell_type": "code",
   "execution_count": 19,
   "id": "ae608664",
   "metadata": {},
   "outputs": [
    {
     "name": "stdout",
     "output_type": "stream",
     "text": [
      "[Altmetric vs Number of Participants]\n",
      "  Pearson r = 0.005, p = 6.786e-01\n",
      "    → Nessuna evidenza di correlazione lineare significativa.\n",
      "  Spearman ρ = 0.274, p = 8.738e-112\n",
      "    → Esiste una correlazione monotona significativa, anche se non necessariamente lineare.\n",
      "  Kendall τ = 0.189, p = 2.883e-108\n",
      "    → Le variabili mostrano concordanza significativa tra le coppie di osservazioni.\n",
      "\n",
      "[Altmetric vs DurationDays]\n",
      "  Pearson r = 0.004, p = 7.711e-01\n",
      "    → Nessuna evidenza di correlazione lineare significativa.\n",
      "  Spearman ρ = 0.125, p = 9.215e-24\n",
      "    → Esiste una correlazione monotona significativa, anche se non necessariamente lineare.\n",
      "  Kendall τ = 0.084, p = 3.881e-23\n",
      "    → Le variabili mostrano concordanza significativa tra le coppie di osservazioni.\n",
      "\n"
     ]
    }
   ],
   "source": [
    "from pyspark.sql.functions import col, to_date, datediff\n",
    "from pyspark.ml.stat import Correlation\n",
    "from pyspark.ml.feature import VectorAssembler\n",
    "\n",
    "df_corr = df_clinical \\\n",
    "    .filter(\n",
    "        col(\"Altmetric Attention Score\").isNotNull() &\n",
    "        col(\"Number of Participants\").isNotNull() &\n",
    "        col(\"Start date\").isNotNull() &\n",
    "        col(\"End Date\").isNotNull()\n",
    "    ) \\\n",
    "    .withColumn(\"StartDate\", to_date(col(\"Start date\"), \"yyyy-MM-dd\")) \\\n",
    "    .withColumn(\"EndDate\",   to_date(col(\"End Date\"),   \"yyyy-MM-dd\")) \\\n",
    "    .withColumn(\"DurationDays\", datediff(col(\"EndDate\"), col(\"StartDate\")))\n",
    "\n",
    "# Correlazione attraverso Pearson e Spearman\n",
    "pdf = df_corr.select(\n",
    "    \"Altmetric Attention Score\",\n",
    "    \"Number of Participants\",\n",
    "    \"DurationDays\"\n",
    ").toPandas()\n",
    "\n",
    "from scipy.stats import pearsonr, spearmanr, kendalltau\n",
    "\n",
    "def interpret_results(name, pearson_r, p_pearson, spearman_rho, p_spearman, kendall_tau, p_kendall):\n",
    "    print(f\"[Altmetric vs {name}]\")\n",
    "\n",
    "    print(f\"  Pearson r = {pearson_r:.3f}, p = {p_pearson:.3e}\")\n",
    "    if p_pearson < 0.05:\n",
    "        print(\"    → Esiste una correlazione lineare statisticamente significativa.\")\n",
    "    else:\n",
    "        print(\"    → Nessuna evidenza di correlazione lineare significativa.\")\n",
    "\n",
    "    print(f\"  Spearman ρ = {spearman_rho:.3f}, p = {p_spearman:.3e}\")\n",
    "    if p_spearman < 0.05:\n",
    "        print(\"    → Esiste una correlazione monotona significativa, anche se non necessariamente lineare.\")\n",
    "    else:\n",
    "        print(\"    → Nessuna evidenza di correlazione monotona significativa.\")\n",
    "\n",
    "    print(f\"  Kendall τ = {kendall_tau:.3f}, p = {p_kendall:.3e}\")\n",
    "    if p_kendall < 0.05:\n",
    "        print(\"    → Le variabili mostrano concordanza significativa tra le coppie di osservazioni.\")\n",
    "    else:\n",
    "        print(\"    → Nessuna evidenza di concordanza significativa tra le variabili.\")\n",
    "    print()\n",
    "\n",
    "# Calcolo per Number of Participants\n",
    "pearson_np, p_np = pearsonr(pdf[\"Altmetric Attention Score\"], pdf[\"Number of Participants\"])\n",
    "spearman_np, sp_p_np = spearmanr(pdf[\"Altmetric Attention Score\"], pdf[\"Number of Participants\"])\n",
    "kendall_np, k_p_np = kendalltau(pdf[\"Altmetric Attention Score\"], pdf[\"Number of Participants\"])\n",
    "\n",
    "# Calcolo per DurationDays\n",
    "pearson_dur, p_dur = pearsonr(pdf[\"Altmetric Attention Score\"], pdf[\"DurationDays\"])\n",
    "spearman_dur, sp_p_dur = spearmanr(pdf[\"Altmetric Attention Score\"], pdf[\"DurationDays\"])\n",
    "kendall_dur, k_p_dur = kendalltau(pdf[\"Altmetric Attention Score\"], pdf[\"DurationDays\"])\n",
    "\n",
    "# Interpretazione\n",
    "interpret_results(\"Number of Participants\", pearson_np, p_np, spearman_np, sp_p_np, kendall_np, k_p_np)\n",
    "interpret_results(\"DurationDays\", pearson_dur, p_dur, spearman_dur, sp_p_dur, kendall_dur, k_p_dur)"
   ]
  },
  {
   "cell_type": "markdown",
   "id": "a4cd3e59",
   "metadata": {},
   "source": [
    "Nonostante il numero di partecipanti non sia linearmente legato alla popolarità mediatica di uno studio, esiste un pattern per cui gli studi con più partecipanti tendono ad avere un Altmetric Score più alto. Questo pattern suggerisce che la dimensione del trial è associata a una maggiore attenzione mediatica, ma non è l’unico fattore determinante. \n",
    "\n",
    "Anche se esiste una debole correlazione monotona tra la durata dello studio e l'Altmetric Score, l'effetto appare marginale (ρ e τ molto bassi). Non si tratta di una relazione lineare, ma piuttosto di una tendenza in cui studi più lunghi tendono ad avere un Altmetric Score leggermente più alto. "
   ]
  },
  {
   "cell_type": "markdown",
   "id": "da7bd1ef",
   "metadata": {},
   "source": [
    "### Analisi della durata dei trial clinici per fase"
   ]
  },
  {
   "cell_type": "code",
   "execution_count": 20,
   "id": "13bad034",
   "metadata": {},
   "outputs": [
    {
     "name": "stdout",
     "output_type": "stream",
     "text": [
      "+--------------------+----+\n",
      "|               Phase| cnt|\n",
      "+--------------------+----+\n",
      "|             Phase 1| 259|\n",
      "|           Phase 1/2| 376|\n",
      "|             Phase 2|2955|\n",
      "|           Phase 2/3| 351|\n",
      "|             Phase 3|4934|\n",
      "|           Phase 3/4|   3|\n",
      "|             Phase 4| 602|\n",
      "|Post Authorisatio...|  22|\n",
      "+--------------------+----+\n",
      "\n"
     ]
    },
    {
     "data": {
      "image/png": "[encoded data removed]",
      "text/plain": [
       "<Figure size 1000x600 with 1 Axes>"
      ]
     },
     "metadata": {},
     "output_type": "display_data"
    },
    {
     "name": "stdout",
     "output_type": "stream",
     "text": [
      "ANOVA one-way across phases: F = 47.002, p = 5.690e-66\n",
      "→ Differenze di durata significative fra almeno due fasi.\n"
     ]
    }
   ],
   "source": [
    "from pyspark.sql.functions import col, to_date, datediff, count, mean, expr\n",
    "from scipy.stats import f_oneway\n",
    "import matplotlib.pyplot as plt\n",
    "import seaborn as sns\n",
    "\n",
    "# Filtraggio per escludere date nulle e calcolo della durata in giorni\n",
    "df_dur = (\n",
    "    df_clinical\n",
    "    .filter(\n",
    "        col(\"Phase\").isNotNull() &\n",
    "        col(\"Start date\").isNotNull() &\n",
    "        col(\"End Date\").isNotNull()\n",
    "    )\n",
    "    .withColumn(\"StartDate\", to_date(col(\"Start date\"), \"yyyy-MM-dd\"))\n",
    "    .withColumn(\"EndDate\",   to_date(col(\"End Date\"),   \"yyyy-MM-dd\"))\n",
    "    .withColumn(\"DurationDays\", datediff(col(\"EndDate\"), col(\"StartDate\")))\n",
    "    .select(\"Phase\", \"DurationDays\")\n",
    ")\n",
    "\n",
    "# Conteggio delle fasi presenti nel dataset\n",
    "df_dur.groupBy(\"Phase\").agg(count(\"*\").alias(\"cnt\")).orderBy(expr(\"Phase\")).show()\n",
    "\n",
    "# Ordine delle fasi\n",
    "desired_order = [\n",
    "    \"Phase 1\", \"Phase 1/2\",\n",
    "    \"Phase 2\", \"Phase 2/3\",\n",
    "    \"Phase 3\", \"Phase 3/4\",\n",
    "    \"Phase 4\", \"Post Authorisation Studies\"\n",
    "]\n",
    "phases_present = [ph for ph in desired_order\n",
    "                  if ph in [row.Phase for row in df_dur.select(\"Phase\").distinct().collect()]]\n",
    "\n",
    "\n",
    "pdf_dur = df_dur.toPandas()\n",
    "\n",
    "# Boxplot\n",
    "plt.figure(figsize=(10, 6))\n",
    "sns.boxplot(\n",
    "    x=\"Phase\",\n",
    "    y=\"DurationDays\",\n",
    "    data=pdf_dur,\n",
    "    order=phases_present\n",
    ")\n",
    "plt.title(\"Duration of Trials by Phase\")\n",
    "plt.xlabel(\"Clinical Trial Phase\")\n",
    "plt.ylabel(\"Duration (days)\")\n",
    "plt.xticks(rotation=30, ha=\"right\")\n",
    "plt.tight_layout()\n",
    "plt.show()\n",
    "\n",
    "# ANOVA\n",
    "groups = [g[\"DurationDays\"].values for _, g in pdf_dur.groupby(\"Phase\")]\n",
    "f_stat, p_val = f_oneway(*groups)\n",
    "print(f\"ANOVA one-way across phases: F = {f_stat:.3f}, p = {p_val:.3e}\")\n",
    "if p_val < 0.05:\n",
    "    print(\"→ Differenze di durata significative fra almeno due fasi.\")\n",
    "else:\n",
    "    print(\"→ Nessuna differenza significativa di durata fra le fasi.\")"
   ]
  },
  {
   "cell_type": "markdown",
   "id": "076f4e27",
   "metadata": {},
   "source": [
    "Le fasi cliniche mostrano differenze significative nella durata degli studi, con fasi come Phase 1 e Phase 4 che tendono a durare meno rispetto a Phase 2 e Phase 3, le quali mostrano una maggiore variabilità."
   ]
  },
  {
   "cell_type": "markdown",
   "id": "c55528fd",
   "metadata": {},
   "source": [
    "## Analisi geografica e multicentricità\n",
    "\n",
    "I trial sponsorizzati in più di un Paese tendono ad avere più partecipanti rispetto a quelli locali?\n",
    "\n",
    "L'analisi confronta il numero di partecipanti tra i trial sponsorizzati in un solo Paese e quelli multinazionali. Prima si categorizzano gli studi in base al numero di Paesi coinvolti, separando i dati relativi ai trial nazionali da quelli multinazionali. Poi si confrontano le medie dei partecipanti tra i due gruppi utilizzando un test statistico (test T di Welch). Se il test rileva una differenza significativa tra le medie, si conclude che i trial multinazionali tendono ad avere più partecipanti."
   ]
  },
  {
   "cell_type": "code",
   "execution_count": null,
   "id": "6e65385a",
   "metadata": {},
   "outputs": [
    {
     "name": "stdout",
     "output_type": "stream",
     "text": [
      "+----------------------+----------------+--------------------------------------------------------------------------------+\n",
      "|Number of Participants|is_multinational|                                                                    Country_List|\n",
      "+----------------------+----------------+--------------------------------------------------------------------------------+\n",
      "|             2400000.0|               1|[United Kingdom, Austria, France, Germany, Hungary, Iceland, Ireland, Italy, ...|\n",
      "|             1000000.0|               1|           [Netherlands, Italy, Spain, Germany, France, United Kingdom, Denmark]|\n",
      "|              285600.0|               1|                                                          [Italy, United States]|\n",
      "|              285600.0|               1|                                                          [Italy, United States]|\n",
      "|              120000.0|               1|[United States, Argentina, Austria, Belgium, Brazil, China, Colombia, Czechia...|\n",
      "|              115000.0|               0|                                                                         [Italy]|\n",
      "|              105000.0|               1|                 [United States, Switzerland, Italy, Canada, Germany, Australia]|\n",
      "|               82800.0|               1|                                                          [Italy, United States]|\n",
      "|               82800.0|               1|                                                          [Italy, United States]|\n",
      "|               82800.0|               1|                                                          [Italy, United States]|\n",
      "+----------------------+----------------+--------------------------------------------------------------------------------+\n",
      "only showing top 10 rows\n",
      "\n"
     ]
    }
   ],
   "source": [
    "from pyspark.sql.functions import split, size, when, trim, col, array_distinct, expr, array\n",
    "\n",
    "# Toglie eventuali spazi all'inizio/fine del campo con i Paesi\n",
    "df_clinical = df_clinical.withColumn(\n",
    "    \"Country_Clean\",\n",
    "    trim(col(\"Country of Sponsor/Collaborator\"))\n",
    ")\n",
    "\n",
    "# Separa i Paesi usando il punto e virgola (;) come separatore\n",
    "df_clinical = df_clinical.withColumn(\n",
    "    \"Country_List\",\n",
    "    split(col(\"Country_Clean\"), \";\")\n",
    ")\n",
    "\n",
    "# Rimuove gli spazi vuoti e gli elementi vuoti nell'array\n",
    "df_clinical = df_clinical.withColumn(\n",
    "    \"Country_List\",\n",
    "    array_distinct(\n",
    "        expr(\"array_distinct(transform(Country_List, x -> trim(x)))\")\n",
    "    )\n",
    ")\n",
    "\n",
    "# Filtria per rimuovere gli eventuali Paesi vuoti (stringhe vuote) nell'array\n",
    "df_clinical = df_clinical.withColumn(\n",
    "    \"Country_List\",\n",
    "    expr(\"filter(Country_List, x -> x != '')\")  # Rimuove gli elementi vuoti dall'array\n",
    ")\n",
    "\n",
    "# Determina se lo studio è multinazionale\n",
    "df_clinical = df_clinical.withColumn(\n",
    "    \"is_multinational\",\n",
    "    when(size(col(\"Country_List\")) > 1, 1).otherwise(0)\n",
    ")\n",
    "\n",
    "# Seleziona solo le colonne rilevanti e filtra i valori validi\n",
    "df_filtered = df_clinical.filter(\n",
    "    df_clinical[\"Number of Participants\"].isNotNull()\n",
    ").select(\n",
    "    \"Number of Participants\", \n",
    "    \"is_multinational\", \n",
    "    \"Country_List\"  # Mostriamo anche i Paesi\n",
    ")\n",
    "\n",
    "# Mostra i 10 studi con più partecipanti, inclusa la lista dei Paesi\n",
    "df_filtered.orderBy(\"Number of Participants\", ascending=False).show(10, truncate=80)\n"
   ]
  },
  {
   "cell_type": "code",
   "execution_count": 48,
   "id": "7dc5a305",
   "metadata": {},
   "outputs": [
    {
     "name": "stdout",
     "output_type": "stream",
     "text": [
      "Osservazioni nazionali: 4763\n",
      "Osservazioni multinazionali: 10072\n",
      "Media (nazionali): 674.19\n",
      "Media (multinazionali): 1361.59\n",
      "\n",
      "\n",
      "T-statistic: -2.567\n",
      "P-value: 0.0103\n",
      "Differenza significativa tra trial nazionali e multinazionali\n"
     ]
    }
   ],
   "source": [
    "from pyspark.sql.functions import avg, count\n",
    "from scipy.stats import ttest_ind\n",
    "import numpy as np\n",
    "\n",
    "# Statistiche sui trial nazionali\n",
    "stats_national = df_filtered.filter(\"is_multinational = 0\") \\\n",
    "    .selectExpr(\"`Number of Participants` as participants\") \\\n",
    "    .agg(\n",
    "        count(\"participants\").alias(\"n_count\"),\n",
    "        avg(\"participants\").alias(\"n_avg\")\n",
    "    ).collect()[0]\n",
    "\n",
    "# Statistiche sui trial multinazionali\n",
    "stats_multinational = df_filtered.filter(\"is_multinational = 1\") \\\n",
    "    .selectExpr(\"`Number of Participants` as participants\") \\\n",
    "    .agg(\n",
    "        count(\"participants\").alias(\"m_count\"),\n",
    "        avg(\"participants\").alias(\"m_avg\")\n",
    "    ).collect()[0]\n",
    "\n",
    "# Per il test statistico, estrai i dati in formato lista\n",
    "group_national = df_filtered.filter(\"is_multinational = 0\") \\\n",
    "    .select(\"Number of Participants\") \\\n",
    "    .rdd.flatMap(lambda x: x).collect()\n",
    "\n",
    "group_multinational = df_filtered.filter(\"is_multinational = 1\") \\\n",
    "    .select(\"Number of Participants\") \\\n",
    "    .rdd.flatMap(lambda x: x).collect()\n",
    "\n",
    "# T-test di Welch\n",
    "t_stat, p_value = ttest_ind(group_national, group_multinational, equal_var=False)\n",
    "\n",
    "# Stampa dei risultati\n",
    "print(f\"Osservazioni nazionali: {stats_national['n_count']}\")\n",
    "print(f\"Osservazioni multinazionali: {stats_multinational['m_count']}\")\n",
    "print(f\"Media (nazionali): {stats_national['n_avg']:.2f}\")\n",
    "print(f\"Media (multinazionali): {stats_multinational['m_avg']:.2f}\")\n",
    "print(\"\\n\")\n",
    "print(f\"T-statistic: {t_stat:.3f}\")\n",
    "print(f\"P-value: {p_value:.4f}\")\n",
    "\n",
    "if p_value < 0.05:\n",
    "    print(\"Differenza significativa tra trial nazionali e multinazionali\")\n",
    "else:\n",
    "    print(\"Nessuna differenza significativa\")\n"
   ]
  }
 ],
 "metadata": {
  "kernelspec": {
   "display_name": "BigDataPySpark",
   "language": "python",
   "name": "python3"
  },
  "language_info": {
   "codemirror_mode": {
    "name": "ipython",
    "version": 3
   },
   "file_extension": ".py",
   "mimetype": "text/x-python",
   "name": "python",
   "nbconvert_exporter": "python",
   "pygments_lexer": "ipython3",
   "version": "3.10.16"
  }
 },
 "nbformat": 4,
 "nbformat_minor": 5
}
