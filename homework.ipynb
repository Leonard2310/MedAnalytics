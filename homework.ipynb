{
 "cells": [
  {
   "cell_type": "markdown",
   "id": "2d43c6d1",
   "metadata": {},
   "source": [
    "# Homework 1"
   ]
  },
  {
   "cell_type": "markdown",
   "id": "221ecf1e",
   "metadata": {},
   "source": [
    "Check installazione spark"
   ]
  },
  {
   "cell_type": "code",
   "execution_count": 1,
   "id": "ecbaa43e",
   "metadata": {},
   "outputs": [],
   "source": [
    "import findspark\n",
    "findspark.init()"
   ]
  },
  {
   "cell_type": "code",
   "execution_count": 2,
   "id": "da35ac42",
   "metadata": {},
   "outputs": [],
   "source": [
    "from pyspark.context import SparkContext\n",
    "sc = SparkContext.getOrCreate()\n",
    "\n",
    "assert  \"3.\" in sc.version, \"Verify that the cluster Spark's version is 3.x\""
   ]
  },
  {
   "cell_type": "code",
   "execution_count": 3,
   "id": "c9881220",
   "metadata": {},
   "outputs": [
    {
     "name": "stdout",
     "output_type": "stream",
     "text": [
      "Spark version: 3.5.5\n"
     ]
    }
   ],
   "source": [
    "print(\"Spark version:\", sc.version)"
   ]
  },
  {
   "cell_type": "code",
   "execution_count": 4,
   "id": "d29bc839",
   "metadata": {},
   "outputs": [],
   "source": [
    "from pyspark.sql import SparkSession\n",
    "spark_session = SparkSession(sc)"
   ]
  },
  {
   "cell_type": "markdown",
   "id": "fd57381f",
   "metadata": {},
   "source": [
    "## Lettura Dataset"
   ]
  },
  {
   "cell_type": "markdown",
   "id": "ec5f4543",
   "metadata": {},
   "source": [
    "Il blocco di codice successivo serve a:\n",
    "1. Usare la prima riga automaticamente come header  \n",
    "2. Fare inferenza automatica sul tipo di dato di ogni colonna  \n",
    "3. Gestire records multi-linea  \n",
    "4. Specificare che sono usate le doppie virgolette per racchiudere i campi  \n",
    "5. Gestire le virgolette all'interno dei campi racchiusi dalle stesse  \n",
    "6. Permettere il parsing di record non formattati perfettamente senza fallire  \n",
    "7. Specificare il path del file `.csv` da cui leggere  "
   ]
  },
  {
   "cell_type": "code",
   "execution_count": 5,
   "id": "c407416c",
   "metadata": {},
   "outputs": [],
   "source": [
    "# Load the CSV file into a DataFrame\n",
    "df_clinical = spark_session.read \\\n",
    "  .option(\"header\", \"true\") \\\n",
    "  .option(\"inferSchema\", \"true\") \\\n",
    "  .option(\"multiLine\", \"true\") \\\n",
    "  .option(\"quote\", '\"') \\\n",
    "  .option(\"escape\", '\"') \\\n",
    "  .option(\"mode\", \"PERMISSIVE\") \\\n",
    "  .csv('dimensions_clinicalTrials.csv') "
   ]
  },
  {
   "cell_type": "code",
   "execution_count": 6,
   "id": "fd1564a7",
   "metadata": {},
   "outputs": [
    {
     "name": "stdout",
     "output_type": "stream",
     "text": [
      "root\n",
      " |-- Rank: integer (nullable = true)\n",
      " |-- Trial ID: string (nullable = true)\n",
      " |-- Title: string (nullable = true)\n",
      " |-- Brief title: string (nullable = true)\n",
      " |-- Acronym: string (nullable = true)\n",
      " |-- Abstract: string (nullable = true)\n",
      " |-- Start date: date (nullable = true)\n",
      " |-- Start Year: double (nullable = true)\n",
      " |-- End Date: date (nullable = true)\n",
      " |-- Completion Year: double (nullable = true)\n",
      " |-- Phase: string (nullable = true)\n",
      " |-- Study Type: string (nullable = true)\n",
      " |-- Study Design: string (nullable = true)\n",
      " |-- Conditions: string (nullable = true)\n",
      " |-- Recruitment Status: string (nullable = true)\n",
      " |-- Number of Participants: double (nullable = true)\n",
      " |-- Intervention: string (nullable = true)\n",
      " |-- Gender: string (nullable = true)\n",
      " |-- Age: string (nullable = true)\n",
      " |-- Registry: string (nullable = true)\n",
      " |-- Investigators/Contacts: string (nullable = true)\n",
      " |-- Sponsors/Collaborators: string (nullable = true)\n",
      " |-- City of Sponsor/Collaborator: string (nullable = true)\n",
      " |-- State of Sponsor/Collaborator: string (nullable = true)\n",
      " |-- Country of Sponsor/Collaborator: string (nullable = true)\n",
      " |-- Collaborating Funders: string (nullable = true)\n",
      " |-- Funder Group: string (nullable = true)\n",
      " |-- Funder Country: string (nullable = true)\n",
      " |-- Source Linkout: string (nullable = true)\n",
      " |-- Altmetric Attention Score: double (nullable = true)\n",
      " |-- Dimensions URL: string (nullable = true)\n",
      " |-- Fields of Research (ANZSRC 2020): string (nullable = true)\n",
      " |-- RCDC Categories: string (nullable = true)\n",
      " |-- HRCS HC Categories: string (nullable = true)\n",
      " |-- HRCS RAC Categories: string (nullable = true)\n",
      " |-- Cancer Types: string (nullable = true)\n",
      " |-- CSO Categories: string (nullable = true)\n",
      " |-- AHC: string (nullable = true)\n",
      "\n"
     ]
    }
   ],
   "source": [
    "df_clinical.printSchema()  # Prints the schema of the DataFrame"
   ]
  },
  {
   "cell_type": "code",
   "execution_count": 7,
   "id": "2818ca98",
   "metadata": {},
   "outputs": [
    {
     "name": "stdout",
     "output_type": "stream",
     "text": [
      "+----+--------------+--------------------+--------------------+-----------------+--------------------+----------+----------+----------+---------------+-------+--------------+--------------------+--------------------+------------------+----------------------+--------------------+------+-------------------+------------------+----------------------+----------------------+----------------------------+-----------------------------+-------------------------------+---------------------+------------+--------------+--------------------+-------------------------+--------------------+--------------------------------+--------------------+--------------------+-------------------+------------+--------------+---------------+\n",
      "|Rank|      Trial ID|               Title|         Brief title|          Acronym|            Abstract|Start date|Start Year|  End Date|Completion Year|  Phase|    Study Type|        Study Design|          Conditions|Recruitment Status|Number of Participants|        Intervention|Gender|                Age|          Registry|Investigators/Contacts|Sponsors/Collaborators|City of Sponsor/Collaborator|State of Sponsor/Collaborator|Country of Sponsor/Collaborator|Collaborating Funders|Funder Group|Funder Country|      Source Linkout|Altmetric Attention Score|      Dimensions URL|Fields of Research (ANZSRC 2020)|     RCDC Categories|  HRCS HC Categories|HRCS RAC Categories|Cancer Types|CSO Categories|            AHC|\n",
      "+----+--------------+--------------------+--------------------+-----------------+--------------------+----------+----------+----------+---------------+-------+--------------+--------------------+--------------------+------------------+----------------------+--------------------+------+-------------------+------------------+----------------------+----------------------+----------------------------+-----------------------------+-------------------------------+---------------------+------------+--------------+--------------------+-------------------------+--------------------+--------------------------------+--------------------+--------------------+-------------------+------------+--------------+---------------+\n",
      "| 100|   NCT05817903|Phase II Study of...|Axitinib Intensif...|             AxIn|This phase II ope...|2023-04-18|    2023.0|2027-04-01|         2027.0|Phase 2|Interventional|Allocation: Rando...|Metastatic Renal ...|        Recruiting|                 118.0|Axitinib (Drug), ...|   All|     18 Years - N/A|ClinicalTrials.gov|  Roberto Iacovelli...|  Consorzio Oncotec...|        Naples; New York;...|         ; New York; ; ; ;...|           Italy; United Sta...| Pfizer (United St...|        NULL| United States|https://clinicalt...|                     NULL|https://app.dimen...|            32 Biomedical and...|Clinical Research...|                NULL|6.1 Pharmaceuticals|        NULL|          NULL|AOUSSN_CAGLIARI|\n",
      "| 100|   NCT05482490|A Novel Hygienic ...|Maintenance Proto...|             NULL|The study we inte...|2022-10-01|    2022.0|2023-12-31|         2023.0|   NULL|Interventional|Allocation: N/A; ...|   Implant Infection|Not yet recruiting|                 130.0|Maintenance proto...|   All|          N/A - N/A|ClinicalTrials.gov|                  NULL|  University of Cag...|          Cagliari; Cagliari|                            ;|                   Italy; Italy| University of Cag...|        NULL|         Italy|https://clinicalt...|                     NULL|https://app.dimen...|            32 Biomedical and...|Bioengineering; C...|           Infection|               NULL|        NULL|          NULL|AOUSSN_CAGLIARI|\n",
      "| 100|ISRCTN44988547|The 3TR Molecular...|Are RNA signature...|3TR Precis-The-RA|Background and st...|2022-09-20|    2022.0|2026-09-01|         2026.0|Phase 4|Interventional|Allocation: Rando...|Rheumatoid arthritis|              NULL|                 240.0|                NULL|   All|        None - None|            ISRCTN|  Liliane Fossati-J...|  Queen Mary Univer...|        London; ; London;...|         ; ; ; ; ; ; Bruss...|           United Kingdom; ;...| Queen Mary Univer...|        NULL|United Kingdom|https://www.isrct...|                     NULL|https://app.dimen...|            32 Biomedical and...|Autoimmune Diseas...|Inflammatory and ...|6.1 Pharmaceuticals|        NULL|          NULL|AOUSSN_CAGLIARI|\n",
      "| 100|   NCT05242484|A Phase 2b Random...|A Study of Combin...|          DUET-UC|The purpose of th...|2022-09-19|    2022.0|2029-02-28|         2029.0|Phase 2|Interventional|Allocation: Rando...| Colitis, Ulcerative|        Recruiting|                 550.0|Guselkumab (Biolo...|   All|18 Years - 65 Years|ClinicalTrials.gov|                  NULL|  Janssen (United S...|        Hopewell; Arcadia...|         New Jersey; Calif...|           United States; Un...| Johnson & Johnson...|        NULL| United States|https://clinicalt...|                     NULL|https://app.dimen...|            32 Biomedical and...|Clinical Research...|Oral and gastroin...|6.1 Pharmaceuticals|        NULL|          NULL|AOUSSN_CAGLIARI|\n",
      "| 100|   NCT05481580|Relationship Betw...|Restorations and ...|             NULL|The aim of this s...|2022-09-01|    2022.0|2023-06-30|         2023.0|   NULL| Observational|Observational Mod...|   Furcation Defects|Not yet recruiting|                 200.0|Periodontal probi...|   All|          N/A - N/A|ClinicalTrials.gov|                  NULL|  University of Cag...|          Cagliari; Cagliari|                            ;|                   Italy; Italy| University of Cag...|        NULL|         Italy|https://clinicalt...|                     NULL|https://app.dimen...|            32 Biomedical and...|      Bioengineering|                NULL|               NULL|        NULL|          NULL|AOUSSN_CAGLIARI|\n",
      "+----+--------------+--------------------+--------------------+-----------------+--------------------+----------+----------+----------+---------------+-------+--------------+--------------------+--------------------+------------------+----------------------+--------------------+------+-------------------+------------------+----------------------+----------------------+----------------------------+-----------------------------+-------------------------------+---------------------+------------+--------------+--------------------+-------------------------+--------------------+--------------------------------+--------------------+--------------------+-------------------+------------+--------------+---------------+\n",
      "only showing top 5 rows\n",
      "\n"
     ]
    }
   ],
   "source": [
    "df_clinical.show(5)  # Displays the first 5 rows of the DataFrame"
   ]
  },
  {
   "cell_type": "markdown",
   "id": "56e140c3",
   "metadata": {},
   "source": [
    "## Analytics"
   ]
  },
  {
   "cell_type": "markdown",
   "id": "e60787ef",
   "metadata": {},
   "source": [
    "### Analytics di esempio"
   ]
  },
  {
   "cell_type": "markdown",
   "id": "c9f3d0e8",
   "metadata": {},
   "source": [
    "Numero di studi cominciati per anno"
   ]
  },
  {
   "cell_type": "code",
   "execution_count": 8,
   "id": "cc47c56c",
   "metadata": {},
   "outputs": [
    {
     "name": "stdout",
     "output_type": "stream",
     "text": [
      "+----------+-----+\n",
      "|Start Year|count|\n",
      "+----------+-----+\n",
      "|    2021.0| 1460|\n",
      "|    2020.0| 1438|\n",
      "|    2019.0| 1321|\n",
      "|    2018.0| 1207|\n",
      "|    2022.0| 1151|\n",
      "|    2017.0| 1146|\n",
      "|    2016.0|  850|\n",
      "|    2015.0|  841|\n",
      "|    2013.0|  784|\n",
      "|    2014.0|  767|\n",
      "+----------+-----+\n",
      "only showing top 10 rows\n",
      "\n"
     ]
    }
   ],
   "source": [
    "df_clinical.filter(df_clinical[\"Start Year\"].isNotNull()) \\\n",
    "    .groupBy(\"Start Year\") \\\n",
    "    .count() \\\n",
    "    .orderBy(\"count\", ascending = False) \\\n",
    "    .show(10)  # Displays the count of clinical trials by start year"
   ]
  },
  {
   "cell_type": "markdown",
   "id": "206a396c",
   "metadata": {},
   "source": [
    "Numero medio di partecipanti per tipo di studio"
   ]
  },
  {
   "cell_type": "code",
   "execution_count": 9,
   "id": "8886a34d",
   "metadata": {},
   "outputs": [
    {
     "name": "stdout",
     "output_type": "stream",
     "text": [
      "+-------------------+----------------+\n",
      "|         Study Type|avg_participants|\n",
      "+-------------------+----------------+\n",
      "|Active surveillance|        115000.0|\n",
      "| Non-interventional|          3260.8|\n",
      "|      Observational|         2632.76|\n",
      "|     Interventional|          660.18|\n",
      "|                CCT|           520.0|\n",
      "|              Other|           202.0|\n",
      "+-------------------+----------------+\n",
      "\n"
     ]
    }
   ],
   "source": [
    "from pyspark.sql.functions import avg, round\n",
    "\n",
    "df_clinical.filter(df_clinical[\"Number of Participants\"].isNotNull()) \\\n",
    "    .groupBy(\"Study Type\") \\\n",
    "    .agg(round(avg(\"Number of Participants\"), 2).alias(\"avg_participants\")) \\\n",
    "    .orderBy(\"avg_participants\", ascending = False) \\\n",
    "    .show(10)  # Displays the average number (roundend to the .2 decimal) of participants by study type"
   ]
  },
  {
   "cell_type": "markdown",
   "id": "6f58b0b7",
   "metadata": {},
   "source": [
    "Top 10 medical conditions più presenti"
   ]
  },
  {
   "cell_type": "code",
   "execution_count": 10,
   "id": "ca8c942d",
   "metadata": {},
   "outputs": [
    {
     "name": "stdout",
     "output_type": "stream",
     "text": [
      "+--------------------+-----+\n",
      "|          Conditions|count|\n",
      "+--------------------+-----+\n",
      "|       Breast Cancer|  281|\n",
      "|    Multiple Myeloma|  179|\n",
      "|      Ovarian Cancer|  126|\n",
      "|            Melanoma|  118|\n",
      "|  Ulcerative Colitis|  112|\n",
      "|Acute Myeloid Leu...|  106|\n",
      "|            Leukemia|  102|\n",
      "|Carcinoma, Non-Sm...|  101|\n",
      "| Follicular Lymphoma|   92|\n",
      "|Metastatic Colore...|   90|\n",
      "+--------------------+-----+\n",
      "only showing top 10 rows\n",
      "\n"
     ]
    }
   ],
   "source": [
    "df_clinical.filter(df_clinical[\"Conditions\"].isNotNull()) \\\n",
    "    .groupBy(\"Conditions\") \\\n",
    "    .count() \\\n",
    "    .orderBy(\"count\", ascending = False) \\\n",
    "    .show(10)  # Displays the top 10 count of clinical trials by condition"
   ]
  },
  {
   "cell_type": "markdown",
   "id": "0445fd82",
   "metadata": {},
   "source": [
    "Paesi con il numero più alto di partecipanti"
   ]
  },
  {
   "cell_type": "code",
   "execution_count": 11,
   "id": "36f2e68c",
   "metadata": {},
   "outputs": [
    {
     "name": "stdout",
     "output_type": "stream",
     "text": [
      "+--------------------+-----+\n",
      "|      Funder Country|count|\n",
      "+--------------------+-----+\n",
      "|       United States| 2785|\n",
      "|               Italy| 1797|\n",
      "|             Germany|  391|\n",
      "|               Japan|  325|\n",
      "|             Belgium|  240|\n",
      "|        Italy; Italy|  182|\n",
      "|         Switzerland|  165|\n",
      "|United States; Un...|  107|\n",
      "|      United Kingdom|   91|\n",
      "|United States; Japan|   68|\n",
      "+--------------------+-----+\n",
      "only showing top 10 rows\n",
      "\n"
     ]
    }
   ],
   "source": [
    "df_clinical.filter(df_clinical[\"Number of Participants\"].isNotNull() & df_clinical[\"Funder Country\"].isNotNull()) \\\n",
    "    .groupBy(\"Funder Country\") \\\n",
    "    .count() \\\n",
    "    .orderBy(\"count\", ascending = False) \\\n",
    "    .show(10)  # Displays the top 10 count of clinical trials by funder country"
   ]
  },
  {
   "cell_type": "markdown",
   "id": "bc3fc210",
   "metadata": {},
   "source": [
    "Si può notare che esistono anche duplicati o paesi che hanno probabilmente una collaborazione (separati da ;) che sono presenti in conteggi separati. Pertanto è utile provare a separarli."
   ]
  },
  {
   "cell_type": "code",
   "execution_count": 12,
   "id": "d58e5974",
   "metadata": {},
   "outputs": [
    {
     "name": "stdout",
     "output_type": "stream",
     "text": [
      "+--------------+-----+\n",
      "|Funder Country|count|\n",
      "+--------------+-----+\n",
      "| United States| 3662|\n",
      "|         Italy| 2939|\n",
      "|       Germany|  602|\n",
      "|         Japan|  547|\n",
      "|United Kingdom|  408|\n",
      "|       Belgium|  347|\n",
      "|   Switzerland|  278|\n",
      "|   Netherlands|  197|\n",
      "|        France|  150|\n",
      "|       Denmark|   82|\n",
      "+--------------+-----+\n",
      "only showing top 10 rows\n",
      "\n"
     ]
    }
   ],
   "source": [
    "from pyspark.sql.functions import split, explode, trim\n",
    "\n",
    "# Split the 'Funder Country' column by ';' and explode it into separate rows\n",
    "df_cleaned = df_clinical.withColumn(\"Funder Country\", explode(split(df_clinical[\"Funder Country\"], \";\")))\n",
    "\n",
    "# Remove leading/trailing whitespace from country names\n",
    "df_cleaned = df_cleaned.withColumn(\"Funder Country\", trim(df_cleaned[\"Funder Country\"]))\n",
    "\n",
    "# Filter out null values and group by 'Funder Country'\n",
    "df_cleaned.filter(df_cleaned[\"Number of Participants\"].isNotNull() & df_cleaned[\"Funder Country\"].isNotNull()) \\\n",
    "    .groupBy(\"Funder Country\") \\\n",
    "    .count() \\\n",
    "    .orderBy(\"count\", ascending=False) \\\n",
    "    .show(10)  # Displays the top 10 count of clinical trials by funder country"
   ]
  },
  {
   "cell_type": "markdown",
   "id": "15812ad1",
   "metadata": {},
   "source": [
    "## Analytics proposte"
   ]
  },
  {
   "cell_type": "markdown",
   "id": "c6e1c815",
   "metadata": {},
   "source": [
    "## Distribuzione delle Age Groups in base alle condizioni"
   ]
  },
  {
   "cell_type": "code",
   "execution_count": 13,
   "id": "5426316b",
   "metadata": {},
   "outputs": [
    {
     "name": "stdout",
     "output_type": "stream",
     "text": [
      "+--------------+--------------------+-----+\n",
      "|           Age|          Conditions|count|\n",
      "+--------------+--------------------+-----+\n",
      "|18 Years - N/A|       Breast Cancer|  212|\n",
      "|18 Years - N/A|    Multiple Myeloma|  159|\n",
      "|18 Years - N/A|      Ovarian Cancer|   99|\n",
      "|18 Years - N/A|Carcinoma, Non-Sm...|   97|\n",
      "|18 Years - N/A|Non-Small Cell Lu...|   78|\n",
      "|18 Years - N/A|Metastatic Breast...|   77|\n",
      "|18 Years - N/A| Follicular Lymphoma|   69|\n",
      "|18 Years - N/A|       Heart Failure|   66|\n",
      "|18 Years - N/A|            Melanoma|   66|\n",
      "|18 Years - N/A|Chronic Myeloid L...|   64|\n",
      "+--------------+--------------------+-----+\n",
      "only showing top 10 rows\n",
      "\n"
     ]
    }
   ],
   "source": [
    "#Si sono filtrati i dati per età e condizioni, e sono stati esclusi i valori nulli e le righe con \"None - None\" o \"N/A - N/A\"\n",
    "df_clinical.filter(df_clinical[\"Age\"].isNotNull() & df_clinical[\"Conditions\"].isNotNull() & (df_clinical[\"Age\"] != \"None - None\") & (df_clinical[\"Age\"] != \"N/A - N/A\")) \\\n",
    "    .groupBy(\"Age\", \"Conditions\") \\\n",
    "    .count() \\\n",
    "    .orderBy(\"count\", ascending = False) \\\n",
    "    .show(10) "
   ]
  },
  {
   "cell_type": "code",
   "execution_count": 14,
   "id": "01702734",
   "metadata": {},
   "outputs": [
    {
     "name": "stdout",
     "output_type": "stream",
     "text": [
      "+-------------------+-------------+-----+\n",
      "|                Age|   Conditions|count|\n",
      "+-------------------+-------------+-----+\n",
      "|     18 Years - N/A|Breast Cancer|  212|\n",
      "|18 Years - 70 Years|Breast Cancer|    8|\n",
      "|18 Years - 75 Years|Breast Cancer|    7|\n",
      "|     N/A - 70 Years|Breast Cancer|    4|\n",
      "|18 Years - 45 Years|Breast Cancer|    4|\n",
      "+-------------------+-------------+-----+\n",
      "only showing top 5 rows\n",
      "\n",
      "+-------------------+----------------+-----+\n",
      "|                Age|      Conditions|count|\n",
      "+-------------------+----------------+-----+\n",
      "|     18 Years - N/A|Multiple Myeloma|  159|\n",
      "|18 Years - 65 Years|Multiple Myeloma|    8|\n",
      "|18 Years - 70 Years|Multiple Myeloma|    5|\n",
      "|     65 Years - N/A|Multiple Myeloma|    2|\n",
      "|18 Years - 80 Years|Multiple Myeloma|    1|\n",
      "+-------------------+----------------+-----+\n",
      "\n",
      "+-------------------+--------------+-----+\n",
      "|                Age|    Conditions|count|\n",
      "+-------------------+--------------+-----+\n",
      "|     18 Years - N/A|Ovarian Cancer|   99|\n",
      "|18 Years - 75 Years|Ovarian Cancer|    9|\n",
      "|     N/A - 75 Years|Ovarian Cancer|    7|\n",
      "|     70 Years - N/A|Ovarian Cancer|    2|\n",
      "|18 Years - 65 Years|Ovarian Cancer|    2|\n",
      "+-------------------+--------------+-----+\n",
      "only showing top 5 rows\n",
      "\n"
     ]
    }
   ],
   "source": [
    "#Qui si è sceso nel particolare delle top 3 Condizioni, per vedere le età più comuni per ciascuna di esse\n",
    "df_clinical.filter(df_clinical[\"Age\"].isNotNull() & (df_clinical[\"Conditions\"] == \"Breast Cancer\") & (df_clinical[\"Age\"] != \"None - None\") & (df_clinical[\"Age\"] != \"N/A - N/A\") ) \\\n",
    "    .groupBy(\"Age\", \"Conditions\") \\\n",
    "    .count() \\\n",
    "    .orderBy(\"count\", ascending = False) \\\n",
    "    .show(5) \n",
    "\n",
    "df_clinical.filter(df_clinical[\"Age\"].isNotNull() & (df_clinical[\"Conditions\"] == \"Multiple Myeloma\") & (df_clinical[\"Age\"] != \"None - None\") & (df_clinical[\"Age\"] != \"N/A - N/A\") ) \\\n",
    "    .groupBy(\"Age\", \"Conditions\") \\\n",
    "    .count() \\\n",
    "    .orderBy(\"count\", ascending = False) \\\n",
    "    .show(5) \n",
    "\n",
    "df_clinical.filter(df_clinical[\"Age\"].isNotNull() & (df_clinical[\"Conditions\"] == \"Ovarian Cancer\") & (df_clinical[\"Age\"] != \"None - None\") & (df_clinical[\"Age\"] != \"N/A - N/A\") ) \\\n",
    "    .groupBy(\"Age\", \"Conditions\") \\\n",
    "    .count() \\\n",
    "    .orderBy(\"count\", ascending = False) \\\n",
    "    .show(5) "
   ]
  },
  {
   "cell_type": "markdown",
   "id": "c1ee885d",
   "metadata": {},
   "source": [
    "Partendo dai risultati precedenti, si è proceduto ad estrarre la Start Age dell'Age Group per raggruppare il campione su tale base."
   ]
  },
  {
   "cell_type": "code",
   "execution_count": 15,
   "id": "3e212769",
   "metadata": {},
   "outputs": [
    {
     "name": "stdout",
     "output_type": "stream",
     "text": [
      "+---------+-------------+-----+\n",
      "|Start Age|   Conditions|count|\n",
      "+---------+-------------+-----+\n",
      "|       18|Breast Cancer|  246|\n",
      "|       65|Breast Cancer|    6|\n",
      "|       45|Breast Cancer|    6|\n",
      "|      N/A|Breast Cancer|    5|\n",
      "|       40|Breast Cancer|    4|\n",
      "+---------+-------------+-----+\n",
      "only showing top 5 rows\n",
      "\n",
      "+---------+----------------+-----+\n",
      "|Start Age|      Conditions|count|\n",
      "+---------+----------------+-----+\n",
      "|       18|Multiple Myeloma|  173|\n",
      "|       65|Multiple Myeloma|    2|\n",
      "+---------+----------------+-----+\n",
      "\n",
      "+---------+--------------+-----+\n",
      "|Start Age|    Conditions|count|\n",
      "+---------+--------------+-----+\n",
      "|       18|Ovarian Cancer|  111|\n",
      "|      N/A|Ovarian Cancer|    7|\n",
      "|       70|Ovarian Cancer|    2|\n",
      "+---------+--------------+-----+\n",
      "\n"
     ]
    }
   ],
   "source": [
    "from pyspark.sql.functions import split\n",
    "\n",
    "df_clinical_with_start_age = df_clinical.withColumn(\"Start Age\", split(df_clinical[\"Age\"], \" \")[0])\n",
    "\n",
    "df_clinical_with_start_age.filter(\n",
    "    df_clinical_with_start_age[\"Age\"].isNotNull() & \n",
    "    (df_clinical_with_start_age[\"Conditions\"] == \"Breast Cancer\") & \n",
    "    (df_clinical_with_start_age[\"Age\"] != \"None - None\") & \n",
    "    (df_clinical_with_start_age[\"Age\"] != \"N/A - N/A\")\n",
    ") \\\n",
    "    .groupBy(\"Start Age\", \"Conditions\") \\\n",
    "    .count() \\\n",
    "    .orderBy(\"count\", ascending=False) \\\n",
    "    .show(5)\n",
    "\n",
    "df_clinical_with_start_age.filter(\n",
    "    df_clinical_with_start_age[\"Age\"].isNotNull()& \n",
    "    (df_clinical_with_start_age[\"Conditions\"] == \"Multiple Myeloma\") & \n",
    "    (df_clinical_with_start_age[\"Age\"] != \"None - None\") & \n",
    "    (df_clinical_with_start_age[\"Age\"] != \"N/A - N/A\")\n",
    ") \\\n",
    "    .groupBy(\"Start Age\", \"Conditions\") \\\n",
    "    .count() \\\n",
    "    .orderBy(\"count\", ascending=False) \\\n",
    "    .show(5)\n",
    "\n",
    "df_clinical_with_start_age.filter(\n",
    "    df_clinical_with_start_age[\"Age\"].isNotNull() & \n",
    "    (df_clinical_with_start_age[\"Conditions\"] == \"Ovarian Cancer\") & \n",
    "    (df_clinical_with_start_age[\"Age\"] != \"None - None\") & \n",
    "    (df_clinical_with_start_age[\"Age\"] != \"N/A - N/A\")\n",
    ") \\\n",
    "    .groupBy(\"Start Age\", \"Conditions\") \\\n",
    "    .count() \\\n",
    "    .orderBy(\"count\", ascending=False) \\\n",
    "    .show(5)"
   ]
  },
  {
   "cell_type": "markdown",
   "id": "cb22e420",
   "metadata": {},
   "source": [
    "## Anomaly Detection Analysis"
   ]
  },
  {
   "cell_type": "markdown",
   "id": "7c645ebb",
   "metadata": {},
   "source": [
    "In questo caso si è cercato di fare una anomaly detection basandosi sul numero di partecipanti ad ogni trial. Usando il metodo IQR (Inter-Quartile Range) si identificano i Trial che hanno un alto o un basso numero di partecipanti con la stessa condizione."
   ]
  },
  {
   "cell_type": "code",
   "execution_count": 44,
   "id": "7a510713",
   "metadata": {},
   "outputs": [
    {
     "name": "stdout",
     "output_type": "stream",
     "text": [
      "Anomalies:\n",
      "+----------------------------------+----------------------+-----------+-----------+-----------+\n",
      "|Conditions                        |Number of Participants|Lower_Bound|Upper_Bound|Trial ID   |\n",
      "+----------------------------------+----------------------+-----------+-----------+-----------+\n",
      "|AL Amyloidosis                    |5000.0                |-20.0      |140.0      |NCT04839003|\n",
      "|AML                               |246.0                 |367.0      |367.0      |NCT02152956|\n",
      "|ARDS                              |740.0                 |-110.0     |226.0      |NCT03963622|\n",
      "|Acute Coronary Syndromes          |10000.0               |2597.0     |2597.0     |NCT02438085|\n",
      "|Acute Leukemia                    |40.0                  |101.0      |101.0      |NCT01385891|\n",
      "|Acute Lymphoblastic Leukemia      |280.0                 |-70.0      |210.0      |NCT00358072|\n",
      "|Acute Myelogenous Leukemia        |326.0                 |561.0      |593.0      |NCT00317642|\n",
      "|Acute Promyelocytic Leukemia      |600.0                 |-19.0      |269.0      |NCT01064570|\n",
      "|Acute Respiratory Failure         |8151.0                |-412.5     |727.5      |NCT01093482|\n",
      "|Advanced Cancer; Metastatic Cancer|50.0                  |1166.0     |1166.0     |NCT06174987|\n",
      "+----------------------------------+----------------------+-----------+-----------+-----------+\n",
      "only showing top 10 rows\n",
      "\n",
      "Valid Records:\n",
      "+--------------------------------------------------------------------+----------------------+-----------+-----------+--------------+\n",
      "|Conditions                                                          |Number of Participants|Lower_Bound|Upper_Bound|Trial ID      |\n",
      "+--------------------------------------------------------------------+----------------------+-----------+-----------+--------------+\n",
      "|Metastatic Renal Cell Carcinoma                                     |118.0                 |48.0       |160.0      |NCT05817903   |\n",
      "|Implant Infection                                                   |130.0                 |130.0      |130.0      |NCT05482490   |\n",
      "|Rheumatoid arthritis                                                |240.0                 |-3950.0    |7170.0     |ISRCTN44988547|\n",
      "|Colitis, Ulcerative                                                 |550.0                 |-911.5     |1780.5     |NCT05242484   |\n",
      "|Furcation Defects                                                   |200.0                 |200.0      |200.0      |NCT05481580   |\n",
      "|Periodontitis                                                       |100.0                 |0.0        |160.0      |NCT05481567   |\n",
      "|Gingival Recession                                                  |20.0                  |-40.0      |120.0      |NCT05472233   |\n",
      "|Crohn's Disease                                                     |715.0                 |-771.5     |1952.5     |NCT05242471   |\n",
      "|Colorectal Cancer (CRC)                                             |160.0                 |160.0      |160.0      |NCT05198934   |\n",
      "|Colon Cancer; Lymph Node Metastasis; Surgical Procedure, Unspecified|788.0                 |788.0      |788.0      |NCT05943951   |\n",
      "+--------------------------------------------------------------------+----------------------+-----------+-----------+--------------+\n",
      "only showing top 10 rows\n",
      "\n"
     ]
    }
   ],
   "source": [
    "from pyspark.sql.functions import col, expr, percentile_approx, first\n",
    "\n",
    "# Calculate Q1, Q3, and IQR for each condition\n",
    "iqr_stats = df_clinical.filter(df_clinical[\"Number of Participants\"].isNotNull()) \\\n",
    "    .groupBy(\"Conditions\") \\\n",
    "    .agg(\n",
    "        percentile_approx(\"Number of Participants\", 0.25).alias(\"Q1\"),\n",
    "        percentile_approx(\"Number of Participants\", 0.75).alias(\"Q3\")\n",
    "    ) \\\n",
    "    .withColumn(\"IQR\", col(\"Q3\") - col(\"Q1\")) \\\n",
    "    .withColumn(\"Lower_Bound\", col(\"Q1\") - 1.5 * col(\"IQR\")) \\\n",
    "    .withColumn(\"Upper_Bound\", col(\"Q3\") + 1.5 * col(\"IQR\"))\n",
    "\n",
    "# Join the IQR stats back to the original DataFrame\n",
    "df_with_iqr = df_clinical.filter(df_clinical[\"Number of Participants\"].isNotNull()) \\\n",
    "    .join(iqr_stats, on=\"Conditions\", how=\"inner\")\n",
    "\n",
    "# Flag anomalies based on IQR\n",
    "anomalies = df_with_iqr.filter(\n",
    "    (col(\"Number of Participants\") < col(\"Lower_Bound\")) |\n",
    "    (col(\"Number of Participants\") > col(\"Upper_Bound\"))\n",
    ")\n",
    "\n",
    "# Select records within the bounds\n",
    "valid_records = df_with_iqr.filter(\n",
    "    (col(\"Number of Participants\") >= col(\"Lower_Bound\")) &\n",
    "    (col(\"Number of Participants\") <= col(\"Upper_Bound\"))\n",
    ")\n",
    "\n",
    "# Group by Conditions and select the first anomaly for each condition\n",
    "unique_anomalies = anomalies.groupBy(\"Conditions\").agg(\n",
    "    first(\"Number of Participants\").alias(\"Number of Participants\"),\n",
    "    first(\"Lower_Bound\").alias(\"Lower_Bound\"),\n",
    "    first(\"Upper_Bound\").alias(\"Upper_Bound\"),\n",
    "    first(\"Trial ID\").alias(\"Trial ID\")\n",
    ")\n",
    "\n",
    "# Show unique anomalies with full-length Conditions column\n",
    "print(\"Anomalies:\")\n",
    "unique_anomalies.show(10,truncate=False)\n",
    "\n",
    "# Show valid records with study information\n",
    "print(\"Valid Records:\")\n",
    "valid_records.select(\"Conditions\", \"Number of Participants\", \"Lower_Bound\", \"Upper_Bound\", \"Trial ID\").show(10,truncate=False)"
   ]
  },
  {
   "cell_type": "code",
   "execution_count": null,
   "id": "ae608664",
   "metadata": {},
   "outputs": [],
   "source": []
  }
 ],
 "metadata": {
  "kernelspec": {
   "display_name": "BigData",
   "language": "python",
   "name": "python3"
  },
  "language_info": {
   "codemirror_mode": {
    "name": "ipython",
    "version": 3
   },
   "file_extension": ".py",
   "mimetype": "text/x-python",
   "name": "python",
   "nbconvert_exporter": "python",
   "pygments_lexer": "ipython3",
   "version": "3.9.21"
  }
 },
 "nbformat": 4,
 "nbformat_minor": 5
}
